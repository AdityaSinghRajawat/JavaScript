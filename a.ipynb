{
 "cells": [
  {
   "cell_type": "code",
   "execution_count": 5,
   "metadata": {},
   "outputs": [
    {
     "name": "stdout",
     "output_type": "stream",
     "text": [
      "[1, 2, 3, 4, 5]\n",
      "[100, 2, 3, 4, 5]\n",
      "[100, 200, 3, 4, 5]\n",
      "[100, 200, 3, 4, 5] [4, 5, 6, 7, 8]\n"
     ]
    }
   ],
   "source": [
    "a = [1,2, 3, 4, 5]\n",
    "b = a\n",
    "print(b)\n",
    "a[0] = 100\n",
    "print(b)\n",
    "b[1] = 200\n",
    "print(a)\n",
    "a = [4, 5, 6, 7, 8]\n",
    "print(b, a)"
   ]
  },
  {
   "cell_type": "code",
   "execution_count": 3,
   "metadata": {},
   "outputs": [
    {
     "name": "stdout",
     "output_type": "stream",
     "text": [
      "[200, 3, 54, 5, 6]\n",
      "[200, 3, 23, 5, 6]\n"
     ]
    }
   ],
   "source": [
    "a = [2, 3, 54, 5, 6]\n",
    "b = a\n",
    "b[0] = 200\n",
    "print(b)\n",
    "# a = [4, 5, 6, 7, 8]\n",
    "a[2] = 23\n",
    "print(b)\n",
    "\n"
   ]
  },
  {
   "cell_type": "code",
   "execution_count": 3,
   "metadata": {},
   "outputs": [
    {
     "name": "stdout",
     "output_type": "stream",
     "text": [
      "[1, 2, 2]\n"
     ]
    }
   ],
   "source": [
    "from typing import List\n",
    "\n",
    "class Solution:\n",
    "    def prefixDistinct(self, n : int, arr : List[int]) -> List[int]:\n",
    "        answer = []\n",
    "        distinct = []\n",
    "        \n",
    "        for i in range(n):\n",
    "            if arr[i] not in distinct:\n",
    "                distinct.append(arr[i])\n",
    "            answer.append(len(distinct))\n",
    "            \n",
    "        return answer\n",
    "\n",
    "arr = [1, 2, 1]\n",
    "n = 3\n",
    "solution = Solution()\n",
    "\n",
    "result = solution.prefixDistinct(n, arr)\n",
    "print(result)"
   ]
  },
  {
   "cell_type": "code",
   "execution_count": null,
   "metadata": {},
   "outputs": [],
   "source": []
  }
 ],
 "metadata": {
  "kernelspec": {
   "display_name": "base",
   "language": "python",
   "name": "python3"
  },
  "language_info": {
   "codemirror_mode": {
    "name": "ipython",
    "version": 3
   },
   "file_extension": ".py",
   "mimetype": "text/x-python",
   "name": "python",
   "nbconvert_exporter": "python",
   "pygments_lexer": "ipython3",
   "version": "3.11.5"
  }
 },
 "nbformat": 4,
 "nbformat_minor": 2
}
